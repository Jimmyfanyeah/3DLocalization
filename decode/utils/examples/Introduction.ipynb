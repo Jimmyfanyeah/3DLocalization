{
 "cells": [
  {
   "cell_type": "markdown",
   "metadata": {},
   "source": [
    "# DECODE - General Introduction\n",
    "If you plan to install and use DECODE locally we recommend going through this notebook to get familiar with the framework.\n",
    "\n",
    "We make highly use of the CUDA accelerated library PyTorch which is used internally almost everywhere."
   ]
  },
  {
   "cell_type": "code",
   "execution_count": null,
   "metadata": {},
   "outputs": [],
   "source": [
    "import decode\n",
    "import decode.utils  # interfaces to outside world which are not loaded by default\n",
    "import torch\n",
    "\n",
    "print(f\"DECODE version: {decode.utils.bookkeeping.decode_state()}\")"
   ]
  },
  {
   "cell_type": "markdown",
   "metadata": {},
   "source": [
    "## EmitterSet"
   ]
  },
  {
   "cell_type": "markdown",
   "metadata": {},
   "source": [
    "At the core of DECODE is the EmitterSet. It has a lot of important functionalities which one should know about. In an interactive Python session (such as this notebook or in the console) you can get more information of all implementations by `help([...])`, e.g.\n",
    "> `help(decode.EmitterSet)`\n"
   ]
  },
  {
   "cell_type": "code",
   "execution_count": null,
   "metadata": {},
   "outputs": [],
   "source": [
    "# construct an EmitterSet\n",
    "em = decode.EmitterSet(\n",
    "    xyz=torch.tensor([[15., 15., 0.], [30., 10., 500.]]),\n",
    "    phot=torch.tensor([1000, 500.]),\n",
    "    frame_ix=torch.tensor([0, 100]),\n",
    "    xy_unit='px', # z is always in nm\n",
    "    px_size=(100., 100.))  # not strictly needed but recommended in order to access xyz in both \n",
    "\n",
    "print(em)  # get some info on the set of emitters"
   ]
  },
  {
   "cell_type": "markdown",
   "metadata": {},
   "source": [
    "The coordinates can (and should) explicitly accessed with a unit as em.xyz_px or em.xyz_nm"
   ]
  },
  {
   "cell_type": "code",
   "execution_count": null,
   "metadata": {},
   "outputs": [],
   "source": [
    "em.xyz_nm"
   ]
  },
  {
   "cell_type": "code",
   "execution_count": null,
   "metadata": {},
   "outputs": [],
   "source": [
    "# you can also set coordinates in a new unit which will lead to automatic conversion\n",
    "em.xyz_nm = torch.rand(2, 3)\n",
    "\n",
    "print(em)  # you see now that the internal storage has changed from px units to nm"
   ]
  },
  {
   "cell_type": "markdown",
   "metadata": {},
   "source": [
    "### Save and Load Emitters\n",
    "There a different options to save EmitterSets.\n",
    "\n",
    "We support:\n",
    "- HDF5 files: Well suited for large file, supported by many frameworks\n",
    "- PT files: Pytorch native saving. Useful for debugging or fast i/o. Not for longterm storage.\n",
    "- CSV files: Human readable and compatible with most other frameworks Compatible with most other frameworks, however highly discouraged if frequently used.\n",
    "\n",
    "All of these formats are derived automatically by the file extension, i.e."
   ]
  },
  {
   "cell_type": "code",
   "execution_count": null,
   "metadata": {
    "collapsed": false,
    "jupyter": {
     "outputs_hidden": false
    },
    "pycharm": {
     "name": "#%%\n"
    }
   },
   "outputs": [],
   "source": [
    "em.save('emitter.h5')  # or '.csv' or '.pt'"
   ]
  },
  {
   "cell_type": "code",
   "execution_count": null,
   "metadata": {
    "collapsed": false,
    "jupyter": {
     "outputs_hidden": false
    },
    "pycharm": {
     "name": "#%%\n"
    }
   },
   "outputs": [],
   "source": [
    "# load EmitterSet from file\n",
    "em_clone = decode.EmitterSet.load('emitter.h5')"
   ]
  },
  {
   "cell_type": "code",
   "execution_count": null,
   "metadata": {
    "collapsed": false,
    "jupyter": {
     "outputs_hidden": false
    },
    "pycharm": {
     "name": "#%%\n"
    }
   },
   "outputs": [],
   "source": [
    "# to retrieve all information that is stored in the file, you can call the loaders explicitley\n",
    "em_data, em_meta, decode_meta = decode.utils.emitter_io.load_h5('emitter.h5')  # load_h5 / load_torch / load_csv\n",
    "em_reload = decode.EmitterSet(**em_data, **em_meta)\n",
    "\n",
    "print(f\"Decode meta information at the time of saving: {decode_meta}\")"
   ]
  },
  {
   "cell_type": "markdown",
   "metadata": {},
   "source": [
    "It is possible to load  csv files that deviate in their CSV header and columns. You\n",
    "need to specify a mapping with keys at least: `x, y, z, phot,\n",
    "frame_ix`\n",
    ">We provide some 'batteries included' mappings, e.g. for the superres fight club challenge format."
   ]
  },
  {
   "cell_type": "code",
   "execution_count": null,
   "metadata": {},
   "outputs": [],
   "source": [
    "# this is the challenge mapping\n",
    "decode.utils.emitter_io.challenge_mapping"
   ]
  },
  {
   "cell_type": "code",
   "execution_count": null,
   "metadata": {},
   "outputs": [],
   "source": [
    "# uncomment the following lines and update the path if you have the challenge activations at hand\n",
    "\n",
    "# em_challenge = decode.utils.emitter_io.load_csv('path_to_challenge_activations.csv',\n",
    "#                                                 mapping=decode.utils.emitter_io.challenge_mapping,\n",
    "#                                                 skiprows=0, line_em_meta=None, line_decode_meta=None)"
   ]
  },
  {
   "cell_type": "markdown",
   "metadata": {},
   "source": [
    "### Operators and Helpers on EmitterSets\n",
    "We implemented a couple of helpers for convenience"
   ]
  },
  {
   "cell_type": "code",
   "execution_count": null,
   "metadata": {},
   "outputs": [],
   "source": [
    "# we support boolean indexing of emitters\n",
    "subset = em[[True, False]]\n",
    "\n",
    "# e.g. get emitter on specific frame\n",
    "em_sub = em[em.frame_ix == 0]\n",
    "\n",
    "# e.g. emitters with certain photon count\n",
    "em_bright = em[em.phot > 600.]"
   ]
  },
  {
   "cell_type": "code",
   "execution_count": null,
   "metadata": {},
   "outputs": [],
   "source": [
    "# check equality of two sets of emitters \n",
    "# warning: requires exact equality, i.e. even the order of localisations must be the same\n",
    "em == em_clone"
   ]
  },
  {
   "cell_type": "code",
   "execution_count": null,
   "metadata": {},
   "outputs": [],
   "source": [
    "# iterate over emitters in set\n",
    "[print(e) for e in em]"
   ]
  },
  {
   "cell_type": "code",
   "execution_count": null,
   "metadata": {},
   "outputs": [],
   "source": [
    "# split emitterset in frames, indices are inclusive, ix_low=0, ix_up=2 will output a list of length 3\n",
    "em_split = em.split_in_frames(ix_low=0, ix_up=10)  # outputs lists of EmitterSets per frame"
   ]
  },
  {
   "cell_type": "code",
   "execution_count": null,
   "metadata": {
    "collapsed": false,
    "jupyter": {
     "outputs_hidden": false
    },
    "pycharm": {
     "name": "#%%\n"
    }
   },
   "outputs": [],
   "source": [
    "# split emitterset in 3 eqaul chunks\n",
    "em = decode.RandomEmitterSet(8)\n",
    "em_split = em.chunks(3)\n",
    "\n",
    "print(f\"{len(em_split)} splits of respective lengths {[len(e) for e in em_split]}.\")"
   ]
  },
  {
   "cell_type": "code",
   "execution_count": null,
   "metadata": {},
   "outputs": [],
   "source": [
    "# concatenate multiple emittersets together\n",
    "em_cat = decode.EmitterSet.cat(em_split)"
   ]
  },
  {
   "cell_type": "markdown",
   "metadata": {},
   "source": [
    "### Sampling Emitters\n",
    "We provide some conveniences to sample or construct emitters"
   ]
  },
  {
   "cell_type": "code",
   "execution_count": null,
   "metadata": {},
   "outputs": [],
   "source": [
    "em_random = decode.RandomEmitterSet(200)  # outputs 200 random emitters, see help(decode.RandomEmitterSet) for more information\n",
    "print(em_random)"
   ]
  },
  {
   "cell_type": "markdown",
   "metadata": {},
   "source": [
    "### Plotting Emitters in 2D and 3D"
   ]
  },
  {
   "cell_type": "code",
   "execution_count": null,
   "metadata": {},
   "outputs": [],
   "source": [
    "import matplotlib.pyplot as plt\n",
    "\n",
    "em_fuzzy = decode.RandomEmitterSet(200)\n",
    "\n",
    "decode.plot.PlotCoordinates(em_fuzzy.xyz_px).plot()\n",
    "plt.show()\n",
    "\n",
    "decode.plot.PlotCoordinates3D(em_fuzzy.xyz_px).plot()\n",
    "plt.show()"
   ]
  },
  {
   "cell_type": "code",
   "execution_count": null,
   "metadata": {},
   "outputs": [],
   "source": []
  }
 ],
 "metadata": {
  "kernelspec": {
   "display_name": "Python [conda env:decode_dev_cpu]",
   "language": "python",
   "name": "conda-env-decode_dev_cpu-py"
  },
  "language_info": {
   "codemirror_mode": {
    "name": "ipython",
    "version": 3
   },
   "file_extension": ".py",
   "mimetype": "text/x-python",
   "name": "python",
   "nbconvert_exporter": "python",
   "pygments_lexer": "ipython3",
   "version": "3.8.8"
  }
 },
 "nbformat": 4,
 "nbformat_minor": 4
}
