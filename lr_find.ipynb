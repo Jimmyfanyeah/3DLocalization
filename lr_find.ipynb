{
 "cells": [
  {
   "cell_type": "code",
   "execution_count": 1,
   "metadata": {},
   "outputs": [
    {
     "name": "stderr",
     "output_type": "stream",
     "text": [
      "/home/lingjia/anaconda3/envs/deepstorm3d/lib/python3.6/site-packages/tqdm/auto.py:22: TqdmWarning: IProgress not found. Please update jupyter and ipywidgets. See https://ipywidgets.readthedocs.io/en/stable/user_install.html\n",
      "  from .autonotebook import tqdm as notebook_tqdm\n"
     ]
    }
   ],
   "source": [
    "\n",
    "import argparse\n",
    "import json\n",
    "import os\n",
    "import time\n",
    "import numpy as np\n",
    "from math import floor\n",
    "from shutil import copy2\n",
    "import torch\n",
    "from torch.optim import Adam\n",
    "from torch.optim.lr_scheduler import ReduceLROnPlateau, StepLR\n",
    "from torch.nn.parallel import DistributedDataParallel as DDP\n",
    "import torch.multiprocessing as mp\n",
    "import torch.distributed as dist\n",
    "# self-defined module\n",
    "from utils.helper import init_DDP, Logger, print_log, load_labels, build_model\n",
    "from utils.data import dataloader\n",
    "from utils.train_model import train_model\n",
    "from utils.test_model import test_model\n",
    "import numpy as np\n",
    "from math import floor\n",
    "import os\n",
    "import argparse\n",
    "import torch\n",
    "from torch.optim import Adam\n",
    "from torch.nn.parallel import DistributedDataParallel as DDP\n",
    "import torch.multiprocessing as mp\n",
    "# self-defined modules\n",
    "from utils.helper import init_DDP, load_labels, build_model\n",
    "from utils.data import dataloader\n",
    "from utils.loss import calculate_loss\n",
    "try:\n",
    "    from torch_lr_finder import LRFinder\n",
    "except ImportError:\n",
    "    # Run from source\n",
    "    import sys\n",
    "    sys.path.insert(0, '..')\n",
    "    from torch_lr_finder import LRFinder\n"
   ]
  },
  {
   "cell_type": "code",
   "execution_count": 2,
   "metadata": {},
   "outputs": [],
   "source": [
    "parser = argparse.ArgumentParser(description='3d localization')\n",
    "# phase\n",
    "parser.add_argument('--train_or_test', type=str, default='other', help='train or test')\n",
    "parser.add_argument('--resume', action='store_true', default=False)\n",
    "parser.add_argument('--gpu_number', type=str, default=None, help='assign gpu')\n",
    "# data info\n",
    "parser.add_argument('--num_im', type=int, default=None, help='Number of samples used, train:val=9:1')\n",
    "parser.add_argument('--H', type=int, default=96, help='Height of image')\n",
    "parser.add_argument('--W', type=int, default=96, help='Width of image')\n",
    "parser.add_argument('--zmin', type=int, default=-20, help='min zeta')\n",
    "parser.add_argument('--zmax', type=int, default=20, help='max zeta')\n",
    "parser.add_argument('--clear_dist', type=int, default=1, help='safe margin for z axis')\n",
    "parser.add_argument('--D', type=int, default=250, help='num grid of zeta axis')\n",
    "parser.add_argument('--scaling_factor', type=int, default=800, help='entry value for existence of pts')\n",
    "parser.add_argument('--upsampling_factor', type=int, default=2, help='grid dim=[H,W]*upsampling_factor')\n",
    "# train info\n",
    "parser.add_argument('--model_use', type=str, default='LocNet')\n",
    "parser.add_argument('--postpro',  action='store_true', default=False, help='whether do post processing in dnn')\n",
    "parser.add_argument('--batch_size', type=int, default=1, help='when training on multi GPU, is the batch size on each GPU')\n",
    "parser.add_argument('--initial_learning_rate', type=float, default=None, help='initial learning rate for adam')\n",
    "parser.add_argument('--lr_decay_per_epoch', type=int, default=None, help='number of epochs learning rate decay')\n",
    "parser.add_argument('--lr_decay_factor', type=float, default=None, help='lr decay factor')\n",
    "parser.add_argument('--max_epoch', type=int,   default=None, help='number of training epoches')\n",
    "parser.add_argument('--save_epoch', type=int, default=None, help='save model per save_epoch')\n",
    "# test info\n",
    "parser.add_argument('--test_id_loc', type=str, default=None)\n",
    "# path\n",
    "parser.add_argument('--checkpoint_path', type=str,  default=None,  help='checkpoint to resume from')\n",
    "parser.add_argument('--data_path', type=str, default='/home/lingjia/Documents/microscope/Data/training_images_zrange20', help='path for train and val data')\n",
    "parser.add_argument('--save_path', type=str, default=None, help='path for save models and results')\n",
    "# output\n",
    "parser.add_argument('--name_time', type=str, default=None, help='string of running time')\n",
    "# for nonconvex loss\n",
    "parser.add_argument('--port', type=str, default=None, help='DDP master port')\n",
    "parser.add_argument('--weight', type=str, default=None, help='lambda CEL0')\n",
    "parser.add_argument('--extra_loss', type=str, default=None, help='indicate whether use cel0 for gaussian or nc for possion')\n",
    "# for extra losses\n",
    "parser.add_argument('--cel0_mu', type=float, default=None, help='mu in cel0 loss')\n",
    "parser.add_argument('--klnc_a', type=float, default=None, help='a for nonconvex loss in KLNC')\n",
    "\n",
    "# opt = parser.parse_args()\n",
    "opt,_=parser.parse_known_args()"
   ]
  },
  {
   "cell_type": "code",
   "execution_count": 3,
   "metadata": {},
   "outputs": [],
   "source": [
    "opt.train_or_test = 'train'\n",
    "opt.port = '124789'\n",
    "opt.batch_size = 8\n",
    "\n",
    "opt.gpu_number = '1'\n",
    "opt.num_im = 10000\n",
    "opt.D = 250\n",
    "opt.upsampling_factor = 2\n",
    "opt.model_use = 'LocNet'\n",
    "opt.data_path = '/media/hdd/lingjia/hdd_rpsf/nonconvex_loss/data/poisson_10k_pt50L5'\n",
    "\n",
    "opt.weight = '1_1'\n",
    "opt.extra_loss = 'mse3d_cel0'\n",
    "\n",
    "opt.cel0_mu = 1\n",
    "# opt.klnc_a = 150\n",
    "\n"
   ]
  },
  {
   "cell_type": "code",
   "execution_count": 4,
   "metadata": {},
   "outputs": [
    {
     "name": "stdout",
     "output_type": "stream",
     "text": [
      "[INFO==>] Dataset: Train:9000 Val:1000\n",
      "[INFO==>] Loss types: ['loss', 'mse3d', 'cel0']\n"
     ]
    }
   ],
   "source": [
    "opt.rank = 0\n",
    "opt.world_size = 1\n",
    "init_DDP(opt)\n",
    "\n",
    "# split data to train and validation set\n",
    "train_IDs = np.arange(1,floor(opt.num_im*0.9)+1,1).tolist()\n",
    "val_IDs = np.arange(floor(opt.num_im*0.9)+1,opt.num_im+1).tolist()\n",
    "print(f'[INFO==>] Dataset: Train:{len(train_IDs)} Val:{len(val_IDs)}')\n",
    "\n",
    "opt.partition = {'train': train_IDs, 'valid': val_IDs}\n",
    "opt.ntrain, opt.nval = len(train_IDs), len(val_IDs)\n",
    "\n",
    "# calculate zoom ratio of z-axis \n",
    "opt.pixel_size_axial = (opt.zmax - opt.zmin + 1 + 2*opt.clear_dist) / opt.D\n",
    "\n",
    "device = torch.device('cuda')\n",
    "torch.backends.cudnn.benchmark = True\n",
    "\n",
    "# Load labels and generate dataset\n",
    "labels = load_labels(os.path.join(opt.data_path,'label.txt'))\n",
    "\n",
    "# Parameters for dataloaders\n",
    "params_train = {'batch_size': opt.batch_size, 'shuffle': True,  'partition': opt.partition['train']}\n",
    "params_val = {'batch_size': opt.batch_size, 'shuffle': False, 'partition': opt.partition['valid']}\n",
    "\n",
    "training_generator = dataloader(opt.data_path, labels, params_train, opt, num_workers=0)\n",
    "validation_generator = dataloader(opt.data_path, labels, params_val, opt, num_workers=0)\n",
    "\n",
    "# model\n",
    "model = build_model(opt)\n",
    "model.to(device)\n",
    "model = DDP(model,find_unused_parameters=True,broadcast_buffers=False)\n",
    "\n",
    "# loss function\n",
    "loss_type = ['loss']\n",
    "if opt.extra_loss: # None or string\n",
    "    extra_loss = opt.extra_loss.split('_')\n",
    "    extra_weight = [float(n) for n in opt.weight.split('_')]\n",
    "    loss_type = loss_type + extra_loss\n",
    "    if not len(extra_loss) == len(extra_weight):\n",
    "        raise Exception(f'Input {len(extra_loss)} weight with {len(extra_weight)} extra loss')\n",
    "print(f'[INFO==>] Loss types: {loss_type}')\n",
    "calc_loss = calculate_loss(opt,loss_type,extra_weight)\n",
    "\n",
    "optimizer = Adam(model.parameters(), lr=1e-7, weight_decay=0)\n"
   ]
  },
  {
   "cell_type": "code",
   "execution_count": 5,
   "metadata": {},
   "outputs": [
    {
     "name": "stderr",
     "output_type": "stream",
     "text": [
      "100%|██████████| 300/300 [04:35<00:00,  1.09it/s]\n"
     ]
    },
    {
     "name": "stdout",
     "output_type": "stream",
     "text": [
      "Learning rate search finished. See the graph with {finder_name}.plot()\n",
      "LR suggestion: steepest gradient\n",
      "Suggested LR: 1.43E-04\n"
     ]
    },
    {
     "data": {
      "image/png": "[encoded data removed]",
      "text/plain": [
       "<Figure size 432x288 with 1 Axes>"
      ]
     },
     "metadata": {
      "needs_background": "light"
     },
     "output_type": "display_data"
    },
    {
     "data": {
      "text/plain": [
       "'\\nbatch size = 16\\ncel0 weight = 1\\ncel0_mu = 0.001 lr = [1e-6, 1] best_lr = 1e-4\\ncel0_mu = 0.01 lr = [1e-6, 1] best_lr = 1e-4\\n\\nklnc_a = 200 weight = 1 [1e-6,1e-1] best=1e-4\\nklnc_a = 100 weight = 1\\nklnc_a = 150 weight = 1\\n\\nklnc_a = 150 weight = 0.1 [1e-6, 1e-1] best=1e-4\\n             weight = 0.001\\n\\n\\n\\n\\n\\n\\n'"
      ]
     },
     "execution_count": 5,
     "metadata": {},
     "output_type": "execute_result"
    }
   ],
   "source": [
    "\n",
    "# lr_finder = LRFinder(cnn, optimizer, criterion, device=\"cuda\")\n",
    "# lr_finder.range_test(training_generator, end_lr=100, num_iter=300)\n",
    "# lr_finder.plot() # to inspect the loss-learning rate graph\n",
    "# lr_finder.reset() # to reset the model and optimizer to their initial state\n",
    "\n",
    "lr_finder = LRFinder(model, optimizer, calc_loss, device=\"cuda\")\n",
    "lr_finder.range_test(training_generator, start_lr=1e-8, end_lr=10, num_iter=300, step_mode=\"exp\")\n",
    "lr_finder.plot(log_lr=True)\n",
    "lr_finder.reset()\n",
    "\n",
    "\"\"\"\n",
    "batch size = 1\n",
    "cel0 weight = 1\n",
    "cel0_mu = 0.001 lr = [1e-6, 1] best_lr = 1e-4\n",
    "cel0_mu = 0.01 lr = [1e-6, 1] best_lr = 1e-4\n",
    "\n",
    "klnc_a = 200 weight = 1 [1e-6,1e-1] best=1e-4\n",
    "klnc_a = 100 weight = 1\n",
    "klnc_a = 150 weight = 1\n",
    "\n",
    "klnc_a = 150 weight = 0.1 [1e-6, 1e-1] best=1e-4\n",
    "             weight = 0.001\n",
    "\n",
    "batch_size  = 8\n",
    "el0_mu = 0.001 lr = [1e-6, 1] best_lr = 1e-4\n",
    "\n",
    "\"\"\""
   ]
  }
 ],
 "metadata": {
  "kernelspec": {
   "display_name": "Python 3.6.13 ('deepstorm3d')",
   "language": "python",
   "name": "python3"
  },
  "language_info": {
   "codemirror_mode": {
    "name": "ipython",
    "version": 3
   },
   "file_extension": ".py",
   "mimetype": "text/x-python",
   "name": "python",
   "nbconvert_exporter": "python",
   "pygments_lexer": "ipython3",
   "version": "3.6.13"
  },
  "orig_nbformat": 4,
  "vscode": {
   "interpreter": {
    "hash": "c40f20e5cf12c01a8510f5b704b157892e0eb193fc1e0d9c4d1938b744ef0863"
   }
  }
 },
 "nbformat": 4,
 "nbformat_minor": 2
}
