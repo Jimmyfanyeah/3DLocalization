{
 "cells": [
  {
   "cell_type": "code",
   "execution_count": 27,
   "metadata": {},
   "outputs": [
    {
     "ename": "ModuleNotFoundError",
     "evalue": "No module named 'round'",
     "output_type": "error",
     "traceback": [
      "\u001b[0;31m---------------------------------------------------------------------------\u001b[0m",
      "\u001b[0;31mModuleNotFoundError\u001b[0m                       Traceback (most recent call last)",
      "\u001b[1;32m/home/lingjia/Documents/rpsf/NN/newGT.ipynb Cell 1\u001b[0m in \u001b[0;36m<cell line: 5>\u001b[0;34m()\u001b[0m\n\u001b[1;32m      <a href='vscode-notebook-cell://ssh-remote%2B144.214.74.91/home/lingjia/Documents/rpsf/NN/newGT.ipynb#ch0000000vscode-remote?line=2'>3</a>\u001b[0m torch\u001b[39m.\u001b[39mset_printoptions()\n\u001b[1;32m      <a href='vscode-notebook-cell://ssh-remote%2B144.214.74.91/home/lingjia/Documents/rpsf/NN/newGT.ipynb#ch0000000vscode-remote?line=3'>4</a>\u001b[0m numpy\u001b[39m.\u001b[39mset_printoptions(suppress\u001b[39m=\u001b[39m\u001b[39mTrue\u001b[39;00m)\n\u001b[0;32m----> <a href='vscode-notebook-cell://ssh-remote%2B144.214.74.91/home/lingjia/Documents/rpsf/NN/newGT.ipynb#ch0000000vscode-remote?line=4'>5</a>\u001b[0m \u001b[39mimport\u001b[39;00m \u001b[39mround\u001b[39;00m\n",
      "\u001b[0;31mModuleNotFoundError\u001b[0m: No module named 'round'"
     ]
    }
   ],
   "source": [
    "import numpy, os\n",
    "import torch\n",
    "torch.set_printoptions()\n",
    "numpy.set_printoptions(suppress=True)\n",
    "import round"
   ]
  },
  {
   "cell_type": "code",
   "execution_count": 18,
   "metadata": {},
   "outputs": [
    {
     "name": "stdout",
     "output_type": "stream",
     "text": [
      "label_raw_initial: (55, 5) label_raw: (55, 5)\n",
      "label_raw_partial:\n",
      "[[  1.      12.5949  14.9821  18.7305 139.8652]\n",
      " [  1.     -20.0972 -33.9922  -7.463   88.809 ]\n",
      " [  1.      25.712  -13.4414   7.6929  99.7835]]\n",
      "label_raw_partial_initialized:\n",
      "tensor([[  0.0000, 139.8652,  62.9821,  60.5949,  18.7305],\n",
      "        [  0.0000,  88.8090,  14.0078,  27.9028,  -7.4630],\n",
      "        [  0.0000,  99.7835,  34.5586,  73.7120,   7.6929]])\n"
     ]
    }
   ],
   "source": [
    "img_shape = [96,96]\n",
    "\n",
    "label_path = '/media/hdd/lingjia/hdd_rpsf/data/plain/train/0620_uniformFlux/label.txt'\n",
    "root_dir = '/media/hdd/lingjia/hdd_rpsf/data/plain/train/0620_uniformFlux'\n",
    "# list_IDs = [int(n.strip('im').strip('.mat')) for n in os.listdir(os.path.join(root_dir,'noise')) if 'im' in n]\n",
    "\n",
    "# label_gen\n",
    "label_raw_intial = numpy.loadtxt(label_path)\n",
    "if label_raw_intial.ndim < 2:\n",
    "    label_raw = numpy.expand_dims(label_raw_intial, axis=0)\n",
    "\n",
    "# given selected ID list\n",
    "list_IDs = [1,2,3]\n",
    "i_bol = numpy.zeros(label_raw_intial.shape[0],dtype=numpy.int8)\n",
    "for idx in list_IDs:\n",
    "    i_bol += label_raw_intial[:,0] == idx\n",
    "\n",
    "label_raw = label_raw_intial[i_bol>0,:]\n",
    "print(f'label_raw_initial: {label_raw.shape} label_raw: {label_raw.shape}')\n",
    "print(f'label_raw_partial:\\n{label_raw[:3]}')\n",
    "\n",
    "# Initialize frame_ix\n",
    "label_raw[:,0] = label_raw[:,0] - numpy.min(label_raw[:,0])\n",
    "\n",
    "labels = torch.tensor(label_raw[:,[0,4,2,1,3]]).float() # frame_idx, flux, x, y, zeta\n",
    "labels[:,2] = labels[:,2] + img_shape[0]/2 #x\n",
    "labels[:,3] = labels[:,3] + img_shape[1]/2 #y\n",
    "print(f'label_raw_partial_initialized:\\n{labels[:3]}')\n"
   ]
  },
  {
   "cell_type": "code",
   "execution_count": 21,
   "metadata": {},
   "outputs": [
    {
     "name": "stdout",
     "output_type": "stream",
     "text": [
      "target pxyz:\n",
      "tensor([[139.8652,  62.9821,  60.5949,  18.7305],\n",
      "        [ 88.8090,  14.0078,  27.9028,  -7.4630],\n",
      "        [ 99.7835,  34.5586,  73.7120,   7.6929],\n",
      "        [121.3040,  23.9794,  15.8624,  15.0556],\n",
      "        [148.6605,  20.2790,  59.5918,  15.7843],\n",
      "        [119.9110,  26.6657,  42.3767, -16.5982],\n",
      "        [ 81.4084,  37.4981,  51.9909, -18.4378],\n",
      "        [136.8806,  40.9802,  23.5463, -13.2068],\n",
      "        [ 96.3204,  50.6395,  27.4709,  15.1257],\n",
      "        [137.2270,  42.5052,  68.4506, -16.0661],\n",
      "        [107.7235,  64.1392,  59.0078,  17.6883],\n",
      "        [141.5032,  62.6383,  61.3725,  17.0140],\n",
      "        [132.9189,  64.4222,  60.7503,  19.7869]])\n"
     ]
    }
   ],
   "source": [
    "\"\"\"BEFORE ADD NEW GT FORMAT\"\"\"\n",
    "idx = 0\n",
    "n_max = 15\n",
    "tars = labels\n",
    "n_frames = 1\n",
    "\n",
    "param_tar = torch.zeros((n_frames, n_max, 4))\n",
    "mask_tar = torch.zeros((n_frames, n_max)).bool()\n",
    "\n",
    "i_bol = tars[:,0] == idx\n",
    "tar = tars[i_bol,1:]\n",
    "n_emitter = len(tar)\n",
    "\n",
    "if n_emitter > n_max:\n",
    "    raise ValueError(f\"Number of actual emitters {n_emitter} exceeds number of max. emitters {n_max} for sample {idx}.\")\n",
    "\n",
    "mask_tar[0, :n_emitter] = 1\n",
    "param_tar[0, :n_emitter, :] = tar\n",
    "# bg = torch.zeros(img_shape)\n",
    "bg = torch.ones(img_shape)*5\n",
    "\n",
    "mask_tar = mask_tar.squeeze()\n",
    "param_tar = param_tar.squeeze()\n",
    "\n",
    "print(f'target_pxyz:\\n{tar}')\n"
   ]
  },
  {
   "cell_type": "code",
   "execution_count": 44,
   "metadata": {},
   "outputs": [
    {
     "name": "stdout",
     "output_type": "stream",
     "text": [
      "prob_map shape:torch.Size([96, 96])\n",
      "tensor([[ True,  True,  True,  True,  True,  True,  True,  True,  True,  True,\n",
      "          True,  True, False, False, False]])\n",
      "tensor([[ True, False, False, False, False, False, False, False, False, False,\n",
      "         False, False, False, False, False]])\n",
      "tensor([[[139.8652,  62.9821,  60.5949,  18.7305],\n",
      "         [ 88.8090,  14.0078,  27.9028,  -7.4630],\n",
      "         [ 99.7835,  34.5586,  73.7120,   7.6929],\n",
      "         [121.3040,  23.9794,  15.8624,  15.0556],\n",
      "         [148.6605,  20.2790,  59.5918,  15.7843],\n",
      "         [119.9110,  26.6657,  42.3767, -16.5982],\n",
      "         [ 81.4084,  37.4981,  51.9909, -18.4378],\n",
      "         [136.8806,  40.9802,  23.5463, -13.2068],\n",
      "         [ 96.3204,  50.6395,  27.4709,  15.1257],\n",
      "         [137.2270,  42.5052,  68.4506, -16.0661],\n",
      "         [107.7235,  64.1392,  59.0078,  17.6883],\n",
      "         [132.9189,  64.4222,  60.7503,  19.7869],\n",
      "         [  0.0000,   0.0000,   0.0000,   0.0000],\n",
      "         [  0.0000,   0.0000,   0.0000,   0.0000],\n",
      "         [  0.0000,   0.0000,   0.0000,   0.0000]]])\n",
      "tensor([[[141.5032,  62.6383,  61.3725,  17.0140],\n",
      "         [  0.0000,   0.0000,   0.0000,   0.0000],\n",
      "         [  0.0000,   0.0000,   0.0000,   0.0000],\n",
      "         [  0.0000,   0.0000,   0.0000,   0.0000],\n",
      "         [  0.0000,   0.0000,   0.0000,   0.0000],\n",
      "         [  0.0000,   0.0000,   0.0000,   0.0000],\n",
      "         [  0.0000,   0.0000,   0.0000,   0.0000],\n",
      "         [  0.0000,   0.0000,   0.0000,   0.0000],\n",
      "         [  0.0000,   0.0000,   0.0000,   0.0000],\n",
      "         [  0.0000,   0.0000,   0.0000,   0.0000],\n",
      "         [  0.0000,   0.0000,   0.0000,   0.0000],\n",
      "         [  0.0000,   0.0000,   0.0000,   0.0000],\n",
      "         [  0.0000,   0.0000,   0.0000,   0.0000],\n",
      "         [  0.0000,   0.0000,   0.0000,   0.0000],\n",
      "         [  0.0000,   0.0000,   0.0000,   0.0000]]])\n",
      "tensor([[139.8652,  62.9821,  60.5949,  18.7305],\n",
      "        [ 88.8090,  14.0078,  27.9028,  -7.4630],\n",
      "        [ 99.7835,  34.5586,  73.7120,   7.6929],\n",
      "        [121.3040,  23.9794,  15.8624,  15.0556],\n",
      "        [148.6605,  20.2790,  59.5918,  15.7843],\n",
      "        [119.9110,  26.6657,  42.3767, -16.5982],\n",
      "        [ 81.4084,  37.4981,  51.9909, -18.4378],\n",
      "        [136.8806,  40.9802,  23.5463, -13.2068],\n",
      "        [ 96.3204,  50.6395,  27.4709,  15.1257],\n",
      "        [137.2270,  42.5052,  68.4506, -16.0661],\n",
      "        [107.7235,  64.1392,  59.0078,  17.6883],\n",
      "        [141.5032,  62.6383,  61.3725,  17.0140],\n",
      "        [132.9189,  64.4222,  60.7503,  19.7869],\n",
      "        [  0.0000,   0.0000,   0.0000,   0.0000],\n",
      "        [  0.0000,   0.0000,   0.0000,   0.0000]])\n"
     ]
    }
   ],
   "source": [
    "\"\"\"NEW GT FORMAT\"\"\"\n",
    "prob_map = torch.zeros(img_shape)\n",
    "print(f'prob_map shape:{prob_map.shape}')\n",
    "\n",
    "param_tar1 = torch.zeros((n_frames, n_max, 4))\n",
    "mask_tar1 = torch.zeros((n_frames, n_max)).bool()\n",
    "param_tar2 = torch.zeros((n_frames, n_max, 4))\n",
    "mask_tar2 = torch.zeros((n_frames, n_max)).bool()\n",
    "\n",
    "# for pt_id in range(n_emitter):\n",
    "#     x = tar[pt_id, 1]\n",
    "#     y = tar[pt_id, 2]\n",
    "#     prob_map1[round(float(x)),round(float(y))] += 1\n",
    "\n",
    "# print(f'max in prob_map1: {torch.max(prob_map1)} {prob_map1.dtype}')\n",
    "\n",
    "# prob_map2 = (prob_map1>1).to(torch.float32)\n",
    "# print(f'max in prob_map2: {torch.max(prob_map2)} {prob_map2.dtype}')\n",
    "\n",
    "mask1_idx = 0\n",
    "mask2_idx = 0\n",
    "for pt_id in range(n_emitter):\n",
    "    x = tar[pt_id, 1]\n",
    "    y = tar[pt_id, 2]\n",
    "    prob_map[round(float(x)),round(float(y))] += 1\n",
    "\n",
    "    if prob_map[round(float(x)),round(float(y))] == 1:\n",
    "        mask_tar1[0,mask1_idx] = 1\n",
    "        param_tar1[0,mask1_idx,:] = tar[pt_id]\n",
    "        mask1_idx += 1\n",
    "    else:\n",
    "        mask_tar2[0,mask2_idx] = 1\n",
    "        param_tar2[0,mask2_idx,:] = tar[pt_id]\n",
    "        mask2_idx += 1\n",
    "\n",
    "print(mask_tar1)\n",
    "print(mask_tar2)\n",
    "print(param_tar1)\n",
    "print(param_tar2)\n",
    "print(param_tar)\n"
   ]
  }
 ],
 "metadata": {
  "kernelspec": {
   "display_name": "Python 3.8.13 ('decode_dev')",
   "language": "python",
   "name": "python3"
  },
  "language_info": {
   "codemirror_mode": {
    "name": "ipython",
    "version": 3
   },
   "file_extension": ".py",
   "mimetype": "text/x-python",
   "name": "python",
   "nbconvert_exporter": "python",
   "pygments_lexer": "ipython3",
   "version": "3.8.13"
  },
  "orig_nbformat": 4,
  "vscode": {
   "interpreter": {
    "hash": "32d9234fb3a060fbd30877034f28c0fca724fa3d0d25a605ad46b1806c555f07"
   }
  }
 },
 "nbformat": 4,
 "nbformat_minor": 2
}
